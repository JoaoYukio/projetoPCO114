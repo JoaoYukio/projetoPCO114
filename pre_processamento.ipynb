{
 "cells": [
  {
   "cell_type": "code",
   "execution_count": 3,
   "metadata": {},
   "outputs": [],
   "source": [
    "import pandas as pd"
   ]
  },
  {
   "cell_type": "code",
   "execution_count": null,
   "metadata": {},
   "outputs": [],
   "source": [
    "df = pd.read_csv('CCEE_BR_Data.csv', sep=',')"
   ]
  },
  {
   "cell_type": "code",
   "execution_count": null,
   "metadata": {},
   "outputs": [],
   "source": [
    "df['Timestamp'] = pd.to_datetime(df['Data'], format='%d/%m/%Y')\n",
    "df['Ano'] = df['Timestamp'].dt.year\n",
    "df['Mês'] = df['Timestamp'].dt.month\n",
    "df['Dia'] = df['Timestamp'].dt.day\n",
    "df['DiaSem'] = df['Timestamp'].dt.weekday"
   ]
  },
  {
   "cell_type": "code",
   "execution_count": null,
   "metadata": {},
   "outputs": [],
   "source": [
    "# exclude 'Exportador'\n",
    "df=df[df['Classe']!='Exportador']\n",
    "# df pré COVID\n",
    "df0 = df[df['Covid']==0]\n",
    "# df durante COVID\n",
    "df1 = df[df['Covid']==1]"
   ]
  },
  {
   "cell_type": "code",
   "execution_count": null,
   "metadata": {},
   "outputs": [],
   "source": [
    "ACL_df = df[df['Classe']!='Distribuidor']"
   ]
  },
  {
   "cell_type": "code",
   "execution_count": null,
   "metadata": {},
   "outputs": [],
   "source": [
    "#Read consumooBrasil\n",
    "consumoBrasil = pd.read_csv('consumoBrasil.csv', sep=',')"
   ]
  },
  {
   "cell_type": "code",
   "execution_count": 4,
   "metadata": {},
   "outputs": [],
   "source": [
    "novoconsumoBrasil = pd.read_csv('novoConsumo.csv', sep=',')"
   ]
  },
  {
   "cell_type": "code",
   "execution_count": 5,
   "metadata": {},
   "outputs": [],
   "source": [
    "#Adiciona os csv do clima\n",
    "clima2018 = pd.read_csv('dataClima2018.csv', sep=',')\n",
    "clima2019 = pd.read_csv('dataClima2019.csv', sep=',')\n",
    "clima2020 = pd.read_csv('dataClima2020.csv', sep=',')"
   ]
  },
  {
   "cell_type": "code",
   "execution_count": null,
   "metadata": {},
   "outputs": [],
   "source": [
    "#Adiciona os valores de temperatura e umidade no dataframe consumoBrasil\n",
    "consumoBrasil = consumoBrasil.merge(clima2018, how='left', left_on='Timestamp', right_on='Timestamp')"
   ]
  },
  {
   "cell_type": "code",
   "execution_count": 6,
   "metadata": {},
   "outputs": [],
   "source": [
    "novoconsumoBrasil = novoconsumoBrasil.merge(clima2018, how='left', left_on='Timestamp', right_on='Timestamp')"
   ]
  },
  {
   "cell_type": "code",
   "execution_count": null,
   "metadata": {},
   "outputs": [],
   "source": [
    "consumoBrasil = consumoBrasil.merge(clima2019, how='left', left_on='Timestamp', right_on='Timestamp')\n",
    "consumoBrasil = consumoBrasil.merge(clima2020, how='left', left_on='Timestamp', right_on='Timestamp')"
   ]
  },
  {
   "cell_type": "code",
   "execution_count": 7,
   "metadata": {},
   "outputs": [
    {
     "name": "stderr",
     "output_type": "stream",
     "text": [
      "C:\\Users\\joaov\\AppData\\Local\\Temp\\ipykernel_15352\\2867181694.py:2: FutureWarning: Passing 'suffixes' which cause duplicate columns {'Unnamed: 0_x'} in the result is deprecated and will raise a MergeError in a future version.\n",
      "  novoconsumoBrasil = novoconsumoBrasil.merge(clima2020, how='left', left_on='Timestamp', right_on='Timestamp')\n"
     ]
    }
   ],
   "source": [
    "novoconsumoBrasil = novoconsumoBrasil.merge(clima2019, how='left', left_on='Timestamp', right_on='Timestamp')\n",
    "novoconsumoBrasil = novoconsumoBrasil.merge(clima2020, how='left', left_on='Timestamp', right_on='Timestamp')"
   ]
  },
  {
   "cell_type": "code",
   "execution_count": 8,
   "metadata": {},
   "outputs": [
    {
     "data": {
      "text/html": [
       "<div>\n",
       "<style scoped>\n",
       "    .dataframe tbody tr th:only-of-type {\n",
       "        vertical-align: middle;\n",
       "    }\n",
       "\n",
       "    .dataframe tbody tr th {\n",
       "        vertical-align: top;\n",
       "    }\n",
       "\n",
       "    .dataframe thead th {\n",
       "        text-align: right;\n",
       "    }\n",
       "</style>\n",
       "<table border=\"1\" class=\"dataframe\">\n",
       "  <thead>\n",
       "    <tr style=\"text-align: right;\">\n",
       "      <th></th>\n",
       "      <th>Unnamed: 0_x</th>\n",
       "      <th>Timestamp</th>\n",
       "      <th>Consumo</th>\n",
       "      <th>Estacao</th>\n",
       "      <th>Unnamed: 0_y</th>\n",
       "      <th>Umidade_x</th>\n",
       "      <th>Radiacao_x</th>\n",
       "      <th>Unnamed: 0_x</th>\n",
       "      <th>Umidade_y</th>\n",
       "      <th>Radiacao_y</th>\n",
       "      <th>Unnamed: 0_y</th>\n",
       "      <th>Umidade</th>\n",
       "      <th>Radiacao</th>\n",
       "    </tr>\n",
       "  </thead>\n",
       "  <tbody>\n",
       "    <tr>\n",
       "      <th>0</th>\n",
       "      <td>0</td>\n",
       "      <td>2018-07-01</td>\n",
       "      <td>51.88078</td>\n",
       "      <td>Verão</td>\n",
       "      <td>181.0</td>\n",
       "      <td>65.464022</td>\n",
       "      <td>2407.729174</td>\n",
       "      <td>NaN</td>\n",
       "      <td>NaN</td>\n",
       "      <td>NaN</td>\n",
       "      <td>NaN</td>\n",
       "      <td>NaN</td>\n",
       "      <td>NaN</td>\n",
       "    </tr>\n",
       "    <tr>\n",
       "      <th>1</th>\n",
       "      <td>1</td>\n",
       "      <td>2018-07-02</td>\n",
       "      <td>59.15982</td>\n",
       "      <td>Verão</td>\n",
       "      <td>182.0</td>\n",
       "      <td>64.955556</td>\n",
       "      <td>2350.343040</td>\n",
       "      <td>NaN</td>\n",
       "      <td>NaN</td>\n",
       "      <td>NaN</td>\n",
       "      <td>NaN</td>\n",
       "      <td>NaN</td>\n",
       "      <td>NaN</td>\n",
       "    </tr>\n",
       "    <tr>\n",
       "      <th>2</th>\n",
       "      <td>2</td>\n",
       "      <td>2018-07-03</td>\n",
       "      <td>62.53248</td>\n",
       "      <td>Verão</td>\n",
       "      <td>183.0</td>\n",
       "      <td>64.274492</td>\n",
       "      <td>2396.967216</td>\n",
       "      <td>NaN</td>\n",
       "      <td>NaN</td>\n",
       "      <td>NaN</td>\n",
       "      <td>NaN</td>\n",
       "      <td>NaN</td>\n",
       "      <td>NaN</td>\n",
       "    </tr>\n",
       "    <tr>\n",
       "      <th>3</th>\n",
       "      <td>3</td>\n",
       "      <td>2018-07-04</td>\n",
       "      <td>62.53920</td>\n",
       "      <td>Verão</td>\n",
       "      <td>184.0</td>\n",
       "      <td>65.612963</td>\n",
       "      <td>2311.228571</td>\n",
       "      <td>NaN</td>\n",
       "      <td>NaN</td>\n",
       "      <td>NaN</td>\n",
       "      <td>NaN</td>\n",
       "      <td>NaN</td>\n",
       "      <td>NaN</td>\n",
       "    </tr>\n",
       "    <tr>\n",
       "      <th>4</th>\n",
       "      <td>4</td>\n",
       "      <td>2018-07-05</td>\n",
       "      <td>63.08526</td>\n",
       "      <td>Verão</td>\n",
       "      <td>185.0</td>\n",
       "      <td>64.238848</td>\n",
       "      <td>2381.077839</td>\n",
       "      <td>NaN</td>\n",
       "      <td>NaN</td>\n",
       "      <td>NaN</td>\n",
       "      <td>NaN</td>\n",
       "      <td>NaN</td>\n",
       "      <td>NaN</td>\n",
       "    </tr>\n",
       "    <tr>\n",
       "      <th>...</th>\n",
       "      <td>...</td>\n",
       "      <td>...</td>\n",
       "      <td>...</td>\n",
       "      <td>...</td>\n",
       "      <td>...</td>\n",
       "      <td>...</td>\n",
       "      <td>...</td>\n",
       "      <td>...</td>\n",
       "      <td>...</td>\n",
       "      <td>...</td>\n",
       "      <td>...</td>\n",
       "      <td>...</td>\n",
       "      <td>...</td>\n",
       "    </tr>\n",
       "    <tr>\n",
       "      <th>711</th>\n",
       "      <td>711</td>\n",
       "      <td>2020-06-15</td>\n",
       "      <td>56.91036</td>\n",
       "      <td>Verão</td>\n",
       "      <td>NaN</td>\n",
       "      <td>NaN</td>\n",
       "      <td>NaN</td>\n",
       "      <td>NaN</td>\n",
       "      <td>NaN</td>\n",
       "      <td>NaN</td>\n",
       "      <td>166.0</td>\n",
       "      <td>71.801053</td>\n",
       "      <td>2189.984519</td>\n",
       "    </tr>\n",
       "    <tr>\n",
       "      <th>712</th>\n",
       "      <td>712</td>\n",
       "      <td>2020-06-16</td>\n",
       "      <td>58.06986</td>\n",
       "      <td>Verão</td>\n",
       "      <td>NaN</td>\n",
       "      <td>NaN</td>\n",
       "      <td>NaN</td>\n",
       "      <td>NaN</td>\n",
       "      <td>NaN</td>\n",
       "      <td>NaN</td>\n",
       "      <td>167.0</td>\n",
       "      <td>71.398340</td>\n",
       "      <td>2259.194410</td>\n",
       "    </tr>\n",
       "    <tr>\n",
       "      <th>713</th>\n",
       "      <td>713</td>\n",
       "      <td>2020-06-17</td>\n",
       "      <td>57.93552</td>\n",
       "      <td>Verão</td>\n",
       "      <td>NaN</td>\n",
       "      <td>NaN</td>\n",
       "      <td>NaN</td>\n",
       "      <td>NaN</td>\n",
       "      <td>NaN</td>\n",
       "      <td>NaN</td>\n",
       "      <td>168.0</td>\n",
       "      <td>70.491684</td>\n",
       "      <td>2220.655187</td>\n",
       "    </tr>\n",
       "    <tr>\n",
       "      <th>714</th>\n",
       "      <td>714</td>\n",
       "      <td>2020-06-18</td>\n",
       "      <td>58.07616</td>\n",
       "      <td>Verão</td>\n",
       "      <td>NaN</td>\n",
       "      <td>NaN</td>\n",
       "      <td>NaN</td>\n",
       "      <td>NaN</td>\n",
       "      <td>NaN</td>\n",
       "      <td>NaN</td>\n",
       "      <td>169.0</td>\n",
       "      <td>69.154167</td>\n",
       "      <td>2310.815321</td>\n",
       "    </tr>\n",
       "    <tr>\n",
       "      <th>715</th>\n",
       "      <td>715</td>\n",
       "      <td>2020-06-19</td>\n",
       "      <td>58.18393</td>\n",
       "      <td>Verão</td>\n",
       "      <td>NaN</td>\n",
       "      <td>NaN</td>\n",
       "      <td>NaN</td>\n",
       "      <td>NaN</td>\n",
       "      <td>NaN</td>\n",
       "      <td>NaN</td>\n",
       "      <td>170.0</td>\n",
       "      <td>68.927975</td>\n",
       "      <td>2321.377433</td>\n",
       "    </tr>\n",
       "  </tbody>\n",
       "</table>\n",
       "<p>716 rows × 13 columns</p>\n",
       "</div>"
      ],
      "text/plain": [
       "     Unnamed: 0_x   Timestamp   Consumo Estacao  Unnamed: 0_y  Umidade_x  \\\n",
       "0               0  2018-07-01  51.88078   Verão         181.0  65.464022   \n",
       "1               1  2018-07-02  59.15982   Verão         182.0  64.955556   \n",
       "2               2  2018-07-03  62.53248   Verão         183.0  64.274492   \n",
       "3               3  2018-07-04  62.53920   Verão         184.0  65.612963   \n",
       "4               4  2018-07-05  63.08526   Verão         185.0  64.238848   \n",
       "..            ...         ...       ...     ...           ...        ...   \n",
       "711           711  2020-06-15  56.91036   Verão           NaN        NaN   \n",
       "712           712  2020-06-16  58.06986   Verão           NaN        NaN   \n",
       "713           713  2020-06-17  57.93552   Verão           NaN        NaN   \n",
       "714           714  2020-06-18  58.07616   Verão           NaN        NaN   \n",
       "715           715  2020-06-19  58.18393   Verão           NaN        NaN   \n",
       "\n",
       "      Radiacao_x  Unnamed: 0_x  Umidade_y  Radiacao_y  Unnamed: 0_y  \\\n",
       "0    2407.729174           NaN        NaN         NaN           NaN   \n",
       "1    2350.343040           NaN        NaN         NaN           NaN   \n",
       "2    2396.967216           NaN        NaN         NaN           NaN   \n",
       "3    2311.228571           NaN        NaN         NaN           NaN   \n",
       "4    2381.077839           NaN        NaN         NaN           NaN   \n",
       "..           ...           ...        ...         ...           ...   \n",
       "711          NaN           NaN        NaN         NaN         166.0   \n",
       "712          NaN           NaN        NaN         NaN         167.0   \n",
       "713          NaN           NaN        NaN         NaN         168.0   \n",
       "714          NaN           NaN        NaN         NaN         169.0   \n",
       "715          NaN           NaN        NaN         NaN         170.0   \n",
       "\n",
       "       Umidade     Radiacao  \n",
       "0          NaN          NaN  \n",
       "1          NaN          NaN  \n",
       "2          NaN          NaN  \n",
       "3          NaN          NaN  \n",
       "4          NaN          NaN  \n",
       "..         ...          ...  \n",
       "711  71.801053  2189.984519  \n",
       "712  71.398340  2259.194410  \n",
       "713  70.491684  2220.655187  \n",
       "714  69.154167  2310.815321  \n",
       "715  68.927975  2321.377433  \n",
       "\n",
       "[716 rows x 13 columns]"
      ]
     },
     "execution_count": 8,
     "metadata": {},
     "output_type": "execute_result"
    }
   ],
   "source": [
    "novoconsumoBrasil"
   ]
  },
  {
   "cell_type": "code",
   "execution_count": null,
   "metadata": {},
   "outputs": [],
   "source": [
    "#Drop the unnecessary columns\n",
    "consumoBrasil.drop(['Unnamed: 0_x', 'Unnamed: 0_y', 'Unnamed: 0'], axis=1, inplace=True)"
   ]
  },
  {
   "cell_type": "code",
   "execution_count": 10,
   "metadata": {},
   "outputs": [],
   "source": [
    "novoconsumoBrasil.drop(['Unnamed: 0_x', 'Unnamed: 0_y'], axis=1, inplace=True)"
   ]
  },
  {
   "cell_type": "code",
   "execution_count": null,
   "metadata": {},
   "outputs": [],
   "source": [
    "consumoBrasil = consumoBrasil.fillna(0)"
   ]
  },
  {
   "cell_type": "code",
   "execution_count": 12,
   "metadata": {},
   "outputs": [],
   "source": [
    "novoconsumoBrasil = novoconsumoBrasil.fillna(0)"
   ]
  },
  {
   "cell_type": "code",
   "execution_count": null,
   "metadata": {},
   "outputs": [],
   "source": [
    "#Create a new column with the average temperature\n",
    "consumoBrasil['Umidade'] = (consumoBrasil['Umidade_x'] + consumoBrasil['Umidade_y'] + consumoBrasil['Umidade'])\n",
    "consumoBrasil['Radiacao'] = (consumoBrasil['Radiacao_x'] + consumoBrasil['Radiacao_y'] + consumoBrasil['Radiacao'])"
   ]
  },
  {
   "cell_type": "code",
   "execution_count": null,
   "metadata": {},
   "outputs": [],
   "source": [
    "#Remove the unnecessary columns\n",
    "consumoBrasil.drop(['Umidade_x', 'Umidade_y', 'Radiacao_x', 'Radiacao_y'], axis=1, inplace=True)"
   ]
  },
  {
   "cell_type": "code",
   "execution_count": null,
   "metadata": {},
   "outputs": [],
   "source": [
    "consumoBrasil.to_csv('consumoWeather.csv')"
   ]
  }
 ],
 "metadata": {
  "kernelspec": {
   "display_name": "Python 3",
   "language": "python",
   "name": "python3"
  },
  "language_info": {
   "codemirror_mode": {
    "name": "ipython",
    "version": 3
   },
   "file_extension": ".py",
   "mimetype": "text/x-python",
   "name": "python",
   "nbconvert_exporter": "python",
   "pygments_lexer": "ipython3",
   "version": "3.10.4 (tags/v3.10.4:9d38120, Mar 23 2022, 23:13:41) [MSC v.1929 64 bit (AMD64)]"
  },
  "orig_nbformat": 4,
  "vscode": {
   "interpreter": {
    "hash": "f422de39ad8f94a2b1af68056cae06c46fbf51cf3a4f51c27b75f93c1047fc34"
   }
  }
 },
 "nbformat": 4,
 "nbformat_minor": 2
}
