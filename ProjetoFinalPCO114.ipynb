{
  "cells": [
    {
      "cell_type": "code",
      "execution_count": null,
      "metadata": {
        "colab": {
          "base_uri": "https://localhost:8080/"
        },
        "id": "NQdS-Ked1erC",
        "outputId": "7369a4a9-2ec2-4fd4-f594-c6a62f55c537"
      },
      "outputs": [],
      "source": [
        "import pandas as pd\n",
        "import numpy as np\n",
        "import matplotlib.pyplot as plt\n",
        "import seaborn as sns\n",
        "%matplotlib inline\n",
        "from plotly import __version__\n",
        "from plotly.offline import download_plotlyjs, init_notebook_mode, plot, iplot\n",
        "\n",
        "import pylab \n",
        "import scipy.stats as stats\n",
        "import statsmodels.api as sm\n",
        "\n",
        "from numpy import mean\n",
        "from numpy import median\n",
        "from numpy import percentile\n",
        "\n",
        "from sklearn.linear_model import LogisticRegression\n",
        "from sklearn.metrics import classification_report,confusion_matrix\n",
        "from sklearn.preprocessing import StandardScaler\n",
        "\n",
        "from pandas import read_csv\n",
        "from pandas import datetime\n",
        "from pandas import DataFrame\n",
        "\n",
        "from statsmodels.tsa.arima_model import ARIMA\n",
        "from pandas.plotting import autocorrelation_plot\n",
        "from statsmodels.graphics.tsaplots import plot_acf, plot_pacf\n",
        "\n",
        "from sklearn.model_selection import train_test_split\n",
        "from sklearn.preprocessing import MinMaxScaler\n",
        "from sklearn.metrics import mean_squared_error,mean_absolute_error,explained_variance_score"
      ]
    },
    {
      "cell_type": "code",
      "execution_count": null,
      "metadata": {
        "id": "0KfkO4GU1erI"
      },
      "outputs": [],
      "source": [
        "import jupyter_dash\n",
        "from jupyter_dash import JupyterDash\n",
        "#import dash_core_components as dcc\n",
        "from dash import Dash, html, dcc, Input, Output\n",
        "import dash_bootstrap_components as dbc\n",
        "import plotly.express as px\n",
        "import plotly.graph_objects as go"
      ]
    },
    {
      "cell_type": "code",
      "execution_count": null,
      "metadata": {
        "id": "Qor8T6n61erI"
      },
      "outputs": [],
      "source": [
        "df = pd.read_csv('https://raw.githubusercontent.com/JoaoYukio/projetoPCO114/main/CCEE_BR_Data.csv', sep=',')#pd.read_csv('CCEE_BR_Data.csv', sep=',')"
      ]
    },
    {
      "cell_type": "code",
      "execution_count": null,
      "metadata": {
        "id": "w7eSSTya1erJ"
      },
      "outputs": [],
      "source": [
        "df['Timestamp'] = pd.to_datetime(df['Data'], format='%d/%m/%Y')\n",
        "df['Ano'] = df['Timestamp'].dt.year\n",
        "df['Mês'] = df['Timestamp'].dt.month\n",
        "df['Dia'] = df['Timestamp'].dt.day\n",
        "df['DiaSem'] = df['Timestamp'].dt.weekday"
      ]
    },
    {
      "cell_type": "code",
      "execution_count": null,
      "metadata": {
        "id": "hp-_ybUj1erK"
      },
      "outputs": [],
      "source": [
        "# exclude 'Exportador'\n",
        "df=df[df['Classe']!='Exportador']\n",
        "# df pré COVID\n",
        "df0 = df[df['Covid']==0]\n",
        "# df durante COVID\n",
        "df1 = df[df['Covid']==1]"
      ]
    },
    {
      "cell_type": "code",
      "execution_count": null,
      "metadata": {
        "id": "PHKma0xE1erK"
      },
      "outputs": [],
      "source": [
        "ACL_df = df[df['Classe']!='Distribuidor']"
      ]
    },
    {
      "cell_type": "code",
      "execution_count": null,
      "metadata": {
        "colab": {
          "base_uri": "https://localhost:8080/",
          "height": 542
        },
        "id": "07-Rhgmr1erL",
        "outputId": "95a2cacd-5a37-4810-a852-9c7e768128d1"
      },
      "outputs": [],
      "source": [
        "#Create a treemap of the consumption by ramo and UF\n",
        "b = ACL_df.groupby(['Ramo','UF'])['Consumo'].sum()\n",
        "#b = b.groupby(['UF']).mean()\n",
        "b=b.reset_index().sort_values(['Consumo'],ascending=False)\n",
        "\n",
        "treeMap = px.treemap(b, path=['UF', 'Ramo'], values='Consumo')\n",
        "treeMap.update_layout(title='Consumo por ramo e estado', xaxis_title='UF', yaxis_title='Consumo (MWh)')\n",
        "treeMap"
      ]
    },
    {
      "cell_type": "code",
      "execution_count": null,
      "metadata": {
        "colab": {
          "base_uri": "https://localhost:8080/",
          "height": 542
        },
        "id": "AtGw59wp1erM",
        "outputId": "f51a60fc-cb39-459e-fd2b-19f8fd4c30b2"
      },
      "outputs": [],
      "source": [
        "#Plota o consumo médio por Ramo de forma descendente\n",
        "rankInd = px.bar(ACL_df.groupby(['Ramo'])['Consumo'].mean().reset_index().sort_values(['Consumo'],ascending=True),\n",
        "                y='Ramo', x='Consumo', orientation='h') #, title='Consumo médio por ramo'\n",
        "rankInd.update_layout(xaxis_title='Consumo (MWh)', yaxis_title='Ramo')\n",
        "rankInd"
      ]
    },
    {
      "cell_type": "code",
      "execution_count": null,
      "metadata": {
        "id": "XJSju6vY1erM"
      },
      "outputs": [],
      "source": [
        "import json"
      ]
    },
    {
      "cell_type": "code",
      "execution_count": null,
      "metadata": {
        "id": "WkJ6Iw_d1erN"
      },
      "outputs": [],
      "source": [
        "#Read consumooBrasil\n",
        "consumoBrasil = pd.read_csv('https://raw.githubusercontent.com/JoaoYukio/projetoPCO114/main/consumoBrasil.csv', sep=',')#pd.read_csv('consumoBrasil.csv', sep=',')"
      ]
    },
    {
      "cell_type": "code",
      "execution_count": null,
      "metadata": {
        "id": "CfY9Ei7i1erN"
      },
      "outputs": [],
      "source": [
        "consumoEstado = df.groupby(['UF', 'Timestamp'])['Consumo'].sum()/1000\n",
        "consumoEstado = consumoEstado.reset_index()\n",
        "consumoEstado.columns = ['UF', 'Timestamp', 'Consumo']"
      ]
    },
    {
      "cell_type": "code",
      "execution_count": null,
      "metadata": {
        "colab": {
          "base_uri": "https://localhost:8080/",
          "height": 424
        },
        "id": "nquPGpnW1erO",
        "outputId": "6bbf2d25-ff62-4298-81a5-b974c08c3135"
      },
      "outputs": [],
      "source": [
        "consumoEstado"
      ]
    },
    {
      "cell_type": "code",
      "execution_count": null,
      "metadata": {
        "colab": {
          "base_uri": "https://localhost:8080/",
          "height": 542
        },
        "id": "oKeERBSi1erO",
        "outputId": "a5dfd2e1-eb59-4b87-e50b-d839fe95f981"
      },
      "outputs": [],
      "source": [
        "#Cria um grafico de linha com o consumo de energia por UF e por dia\n",
        "lineUf = px.line(consumoEstado, x=\"Timestamp\", y=consumoEstado[\"Consumo\"].rolling(window=4).mean(), color='UF', title='Consumo de energia por UF')\n",
        "lineUf.update_layout(xaxis_title='Data', yaxis_title='Consumo (MWh)')\n",
        "lineUf.update_layout(\n",
        "    xaxis=dict(\n",
        "        rangeselector=dict(\n",
        "            \n",
        "            buttons=list([\n",
        "                dict(count=1,\n",
        "                        label=\"1m\",\n",
        "                        step=\"month\",\n",
        "                        stepmode=\"backward\"),\n",
        "                dict(count=6,\n",
        "                        label=\"6m\",\n",
        "                        step=\"month\",\n",
        "                        stepmode=\"backward\"),\n",
        "                dict(count=1,\n",
        "                        label=\"1y\",\n",
        "                        step=\"year\",\n",
        "                        stepmode=\"backward\"),\n",
        "                dict(step=\"all\")\n",
        "            ])\n",
        "        ),\n",
        "        rangeslider=dict(\n",
        "            visible=True\n",
        "        ),\n",
        "        type=\"date\"\n",
        "    )\n",
        ")\n",
        "lineUf"
      ]
    },
    {
      "cell_type": "code",
      "execution_count": null,
      "metadata": {
        "id": "O99a5ybN1erP"
      },
      "outputs": [],
      "source": [
        "import re, json, requests"
      ]
    },
    {
      "cell_type": "code",
      "execution_count": null,
      "metadata": {
        "id": "sMv_ixOg1erP"
      },
      "outputs": [],
      "source": [
        "url = 'https://raw.githubusercontent.com/JoaoYukio/projetoPCO114/main/brazil_geo.json'"
      ]
    },
    {
      "cell_type": "code",
      "execution_count": null,
      "metadata": {
        "id": "BbKwZLoI1erP"
      },
      "outputs": [],
      "source": [
        "#Ler o arquivo json com os dados geográficos do Brasil do github\n",
        "resp = requests.get(url)\n",
        "\n",
        "estados_do_brasil = json.loads(resp.text)#json.load(open('brazil_geo.json', 'r')) <- forma de ler localmente"
      ]
    },
    {
      "cell_type": "code",
      "execution_count": null,
      "metadata": {
        "id": "aF5NV1la1erQ"
      },
      "outputs": [],
      "source": [
        "df[\"UF\"] = df[\"UF\"].str.replace(\"\\xa0\", \"\")"
      ]
    },
    {
      "cell_type": "code",
      "execution_count": null,
      "metadata": {
        "colab": {
          "background_save": true,
          "base_uri": "https://localhost:8080/",
          "height": 542
        },
        "id": "YoiwmpPa1erQ",
        "outputId": "5f8e666f-7252-4f5f-b919-a6c25fb98538"
      },
      "outputs": [],
      "source": [
        "# Cria um mapa com o consumo de energia de cada estado\n",
        "figMap = px.choropleth_mapbox(\n",
        "    df, locations=\"UF\", color=\"Consumo\",\n",
        "    center={\"lat\":-16.95, \"lon\": -47.78},\n",
        "    zoom = 3,\n",
        "    geojson=estados_do_brasil,\n",
        "    color_continuous_scale=\"Redor\",\n",
        "    mapbox_style=\"carto-positron\",\n",
        "    opacity=0.5,\n",
        "    labels={'Consumo':'Consumo de Energia (MWh)'}\n",
        ")\n",
        "figMap.update_layout(margin={\"r\":0,\"t\":0,\"l\":0,\"b\":0})"
      ]
    },
    {
      "cell_type": "code",
      "execution_count": null,
      "metadata": {
        "colab": {
          "background_save": true
        },
        "id": "Rd5acebS1erQ"
      },
      "outputs": [],
      "source": [
        "consumoRamo= df.groupby(['Ramo', 'Timestamp'])['Consumo'].sum()/1000"
      ]
    },
    {
      "cell_type": "code",
      "execution_count": null,
      "metadata": {
        "colab": {
          "background_save": true
        },
        "id": "2DkmzZYW1erQ"
      },
      "outputs": [],
      "source": [
        "consumoRamo = consumoRamo.reset_index()\n",
        "consumoRamo.columns = ['Ramo', 'Timestamp', 'Consumo']"
      ]
    },
    {
      "cell_type": "code",
      "execution_count": null,
      "metadata": {
        "colab": {
          "background_save": true
        },
        "id": "vAHAQARv1erR"
      },
      "outputs": [],
      "source": [
        "consumoRamo.drop(consumoRamo[consumoRamo['Ramo'] == 'ACR'].index, inplace = True)"
      ]
    },
    {
      "cell_type": "code",
      "execution_count": null,
      "metadata": {
        "colab": {
          "background_save": true,
          "base_uri": "https://localhost:8080/",
          "height": 542
        },
        "id": "Y80QywSz1erR",
        "outputId": "22a969a0-fb56-4ae3-fa86-4138b1177ba6"
      },
      "outputs": [],
      "source": [
        "#Cria um grafico de linha com o consumo de energia por ramo e por dia\n",
        "figRamo = px.line(consumoRamo, x=\"Timestamp\", y=consumoRamo[\"Consumo\"].rolling(4).mean(), color='Ramo', title='Consumo de energia por ramo')\n",
        "figRamo.update_layout(xaxis_title='Data', yaxis_title='Consumo (MWh)')\n",
        "figRamo.update_layout(\n",
        "    xaxis=dict(\n",
        "        rangeselector=dict(\n",
        "            \n",
        "            buttons=list([\n",
        "                dict(count=1,\n",
        "                        label=\"1m\",\n",
        "                        step=\"month\",\n",
        "                        stepmode=\"backward\"),\n",
        "                dict(count=6,\n",
        "                        label=\"6m\",\n",
        "                        step=\"month\",\n",
        "                        stepmode=\"backward\"),\n",
        "                dict(count=1,\n",
        "                        label=\"1y\",\n",
        "                        step=\"year\",\n",
        "                        stepmode=\"backward\"),\n",
        "                dict(step=\"all\")\n",
        "            ])\n",
        "        ),\n",
        "        rangeslider=dict(\n",
        "            visible=True\n",
        "        ),\n",
        "        type=\"date\"\n",
        "    )\n",
        ")\n",
        "figRamo"
      ]
    },
    {
      "cell_type": "code",
      "execution_count": null,
      "metadata": {
        "colab": {
          "background_save": true,
          "base_uri": "https://localhost:8080/",
          "height": 542
        },
        "id": "-jyiLuI01erR",
        "outputId": "81a920a7-28e5-4ea2-834c-7dfa77016436"
      },
      "outputs": [],
      "source": [
        "#Create a scatter with the avarage consumption by day of the week\n",
        "figScatter = px.scatter(df.groupby(['DiaSem'])['Consumo'].mean().reset_index().sort_values(['Consumo'],ascending=True),\n",
        "                x='DiaSem', y='Consumo') #, title='O consumo é afetado pelo final de semana?',\n",
        "#mapeia o dia da semana para o nome do dia\n",
        "                \n",
        "figScatter.update_xaxes(ticktext=['Segunda','Terça','Quarta','Quinta','Sexta','Sábado','Domingo'],\n",
        "                    tickvals=[0,1,2,3,4,5,6])\n",
        "\n",
        "figScatter.update_layout(xaxis_title='Dia da semana', yaxis_title='Consumo (MWh)')\n",
        "\n",
        "figScatter"
      ]
    },
    {
      "cell_type": "code",
      "execution_count": null,
      "metadata": {
        "colab": {
          "background_save": true,
          "base_uri": "https://localhost:8080/",
          "height": 424
        },
        "id": "NeDx0W0n1erS",
        "outputId": "76ca517d-d1e3-4e8d-bf15-86a44a1df8b2"
      },
      "outputs": [],
      "source": [
        "consumoBrasil"
      ]
    },
    {
      "cell_type": "code",
      "execution_count": null,
      "metadata": {
        "colab": {
          "background_save": true
        },
        "id": "qmeeDOvP1erS"
      },
      "outputs": [],
      "source": [
        "#Adiciona a estação do ano ao dataframe\n",
        "df['Estacao'] = df['Timestamp'].dt.month%12 // 3 + 1\n",
        "df['Estacao'] = df['Estacao'].replace(1, 'Inverno')\n",
        "df['Estacao'] = df['Estacao'].replace(2, 'Primavera')\n",
        "df['Estacao'] = df['Estacao'].replace(3, 'Verão')\n",
        "df['Estacao'] = df['Estacao'].replace(4, 'Outono')"
      ]
    },
    {
      "cell_type": "code",
      "execution_count": null,
      "metadata": {
        "colab": {
          "background_save": true
        },
        "id": "Hp_R79z-1erS"
      },
      "outputs": [],
      "source": [
        "consumoData = ACL_df.groupby(['Timestamp'])['Consumo'].sum()/1000"
      ]
    },
    {
      "cell_type": "code",
      "execution_count": null,
      "metadata": {
        "colab": {
          "background_save": true,
          "base_uri": "https://localhost:8080/"
        },
        "id": "E7TPloSY1erS",
        "outputId": "c2b32d1b-e3e5-4c0c-b010-a8a49548a629"
      },
      "outputs": [],
      "source": [
        "consumoData"
      ]
    },
    {
      "cell_type": "code",
      "execution_count": null,
      "metadata": {
        "colab": {
          "background_save": true
        },
        "id": "yjp-k4BY1erS"
      },
      "outputs": [],
      "source": [
        "consumoData = consumoData.reset_index()\n",
        "consumoData.columns = ['Timestamp', 'Consumo']"
      ]
    },
    {
      "cell_type": "code",
      "execution_count": null,
      "metadata": {
        "colab": {
          "background_save": true
        },
        "id": "kiq9JyIC1erT"
      },
      "outputs": [],
      "source": [
        "consumoData['Estacao'] = consumoData['Timestamp'].dt.month%12 // 3 + 1\n",
        "consumoData['Estacao'] = consumoData['Estacao'].replace(1, 'Inverno')\n",
        "consumoData['Estacao'] = consumoData['Estacao'].replace(2, 'Primavera')\n",
        "consumoData['Estacao'] = consumoData['Estacao'].replace(3, 'Verão')\n",
        "consumoData['Estacao'] = consumoData['Estacao'].replace(4, 'Outono')"
      ]
    },
    {
      "cell_type": "code",
      "execution_count": null,
      "metadata": {
        "colab": {
          "background_save": true
        },
        "id": "IlAMco7d1erT"
      },
      "outputs": [],
      "source": [
        "import holidays"
      ]
    },
    {
      "cell_type": "code",
      "execution_count": null,
      "metadata": {
        "colab": {
          "background_save": true
        },
        "id": "845eZRZE1erT"
      },
      "outputs": [],
      "source": [
        "#Adiciona os feriados no dataframe\n",
        "df['Feriado'] = df['Timestamp'].dt.date.astype('datetime64').isin(holidays.Brazil(years=[2018,2019,2020]).keys())"
      ]
    },
    {
      "cell_type": "code",
      "execution_count": null,
      "metadata": {
        "colab": {
          "background_save": true
        },
        "id": "rnUDambu1erT"
      },
      "outputs": [],
      "source": [
        "dataWeather = pd.read_csv('https://raw.githubusercontent.com/JoaoYukio/projetoPCO114/main/dadosComClima.csv', sep=',')#pd.read_csv('dadosComClima.csv', sep=',')"
      ]
    },
    {
      "cell_type": "code",
      "execution_count": null,
      "metadata": {
        "colab": {
          "background_save": true
        },
        "id": "MHoztUme1erT"
      },
      "outputs": [],
      "source": [
        "#Convert the date string to datetime\n",
        "dataWeather['Timestamp'] = pd.to_datetime(dataWeather['Timestamp'])"
      ]
    },
    {
      "cell_type": "code",
      "execution_count": null,
      "metadata": {
        "colab": {
          "background_save": true
        },
        "id": "RCArD8PO1erT"
      },
      "outputs": [],
      "source": [
        "#Remove the data before july 2018 and after july 2020\n",
        "dataWeather = dataWeather[dataWeather['Timestamp'] >= '2018-07-01']\n",
        "dataWeather = dataWeather[dataWeather['Timestamp'] <= '2020-06-19']"
      ]
    },
    {
      "cell_type": "code",
      "execution_count": null,
      "metadata": {
        "colab": {
          "background_save": true
        },
        "id": "IaToh3H71erU"
      },
      "outputs": [],
      "source": [
        "dataWeather['Estacao'] = dataWeather['Timestamp'].dt.month%12 // 3 + 1\n",
        "dataWeather['Estacao'] = dataWeather['Estacao'].replace(1, 'Inverno')\n",
        "dataWeather['Estacao'] = dataWeather['Estacao'].replace(2, 'Primavera')\n",
        "dataWeather['Estacao'] = dataWeather['Estacao'].replace(3, 'Verão')\n",
        "dataWeather['Estacao'] = dataWeather['Estacao'].replace(4, 'Outono')"
      ]
    },
    {
      "cell_type": "code",
      "execution_count": null,
      "metadata": {
        "colab": {
          "background_save": true,
          "base_uri": "https://localhost:8080/",
          "height": 542
        },
        "id": "iU1JrIWo1erU",
        "outputId": "6d646cef-0f67-4323-9f66-cbe79fb7cb17"
      },
      "outputs": [],
      "source": [
        "#plota a media movel de 7 dias do consumo de energia do dataset dataWeather\n",
        "fig7 = px.line(dataWeather, x = dataWeather[\"Timestamp\"], y = dataWeather[\"Consumo\"].rolling(window=4).mean(),title='Consumo de energia média móvel de 4 dias')\n",
        "fig7.update_layout(xaxis_title='Data', yaxis_title='Consumo (MWh)')\n",
        "#Add a candlestick chart\n",
        "meanData=dataWeather[\"Consumo\"].rolling(window=4).mean()\n",
        "fig7.add_trace(go.Candlestick(x=dataWeather[\"Timestamp\"],\n",
        "                open=meanData,\n",
        "                high=meanData*1.02,\n",
        "                low=meanData*0.98,\n",
        "                close=meanData,\n",
        "                name = 'Candlestick'))\n",
        "fig7.update_layout(\n",
        "    xaxis=dict(\n",
        "        rangeselector=dict(\n",
        "            \n",
        "            buttons=list([\n",
        "                dict(count=1,\n",
        "                        label=\"1m\",\n",
        "                        step=\"month\",\n",
        "                        stepmode=\"backward\"),\n",
        "                dict(count=6,\n",
        "                        label=\"6m\",\n",
        "                        step=\"month\",\n",
        "                        stepmode=\"backward\"),\n",
        "                dict(count=1,\n",
        "                        label=\"1y\",\n",
        "                        step=\"year\",\n",
        "                        stepmode=\"backward\"),\n",
        "                dict(step=\"all\")\n",
        "            ])\n",
        "        ),\n",
        "        rangeslider=dict(\n",
        "            visible=True\n",
        "        ),\n",
        "        type=\"date\"\n",
        "    )\n",
        ")\n",
        "fig7"
      ]
    },
    {
      "cell_type": "code",
      "execution_count": null,
      "metadata": {
        "colab": {
          "background_save": true,
          "base_uri": "https://localhost:8080/",
          "height": 542
        },
        "id": "hSY0dEab1erV",
        "outputId": "39018dc8-cc2c-405b-d2da-ca30cf638f35"
      },
      "outputs": [],
      "source": [
        "figEstacao = px.line(dataWeather, x = dataWeather['Timestamp'], y = dataWeather['Consumo'].rolling(window=4).mean(),title='Consumo de energia média móvel de 4 dias')#, color = 'Estacao'\n",
        "figEstacao.add_scatter(x=dataWeather[dataWeather['Estacao'] == 'Verão']['Timestamp'], y=dataWeather[dataWeather['Estacao'] == 'Verão']['Consumo'].rolling(window=4).mean(), mode='markers', name='Verão')\n",
        "figEstacao.add_scatter(x=dataWeather[dataWeather['Estacao'] == 'Outono']['Timestamp'], y=dataWeather[dataWeather['Estacao'] == 'Outono']['Consumo'].rolling(window=4).mean(), mode='markers', name='Outono')\n",
        "figEstacao.add_scatter(x=dataWeather[dataWeather['Estacao'] == 'Inverno']['Timestamp'], y=dataWeather[dataWeather['Estacao'] == 'Inverno']['Consumo'].rolling(window=4).mean(), mode='markers', name='Inverno')\n",
        "figEstacao.add_scatter(x=dataWeather[dataWeather['Estacao'] == 'Primavera']['Timestamp'], y=dataWeather[dataWeather['Estacao'] == 'Primavera']['Consumo'].rolling(window=4).mean(), mode='markers', name='Primavera')\n",
        "figEstacao.update_layout(xaxis_title='Data', yaxis_title='Consumo (MWh)')\n",
        "#Add a data range slider\n",
        "figEstacao.update_layout(\n",
        "    xaxis=dict(\n",
        "        rangeselector=dict(\n",
        "            \n",
        "            buttons=list([\n",
        "                dict(count=1,\n",
        "                        label=\"1m\",\n",
        "                        step=\"month\",\n",
        "                        stepmode=\"backward\"),\n",
        "                dict(count=6,\n",
        "                        label=\"6m\",\n",
        "                        step=\"month\",\n",
        "                        stepmode=\"backward\"),\n",
        "                dict(count=1,\n",
        "                        label=\"1y\",\n",
        "                        step=\"year\",\n",
        "                        stepmode=\"backward\"),\n",
        "                dict(step=\"all\")\n",
        "            ])\n",
        "        ),\n",
        "        rangeslider=dict(\n",
        "            visible=True\n",
        "        ),\n",
        "        type=\"date\"\n",
        "    )\n",
        ")\n",
        "figEstacao"
      ]
    },
    {
      "cell_type": "code",
      "execution_count": null,
      "metadata": {
        "colab": {
          "background_save": true
        },
        "id": "9KPZug_Y1erV"
      },
      "outputs": [],
      "source": [
        "#Remove the estacao from dataWeather\n",
        "dataWeather = dataWeather.drop(['Estacao'], axis=1)"
      ]
    },
    {
      "cell_type": "code",
      "execution_count": null,
      "metadata": {
        "colab": {
          "background_save": true
        },
        "id": "zYsos8zp1erV"
      },
      "outputs": [],
      "source": [
        "consumoBrasil = consumoBrasil[consumoBrasil['Timestamp'] >= '2018-07-01']\n",
        "consumoBrasil = consumoBrasil[consumoBrasil['Timestamp'] <= '2020-06-19']"
      ]
    },
    {
      "cell_type": "code",
      "execution_count": null,
      "metadata": {
        "colab": {
          "background_save": true,
          "base_uri": "https://localhost:8080/",
          "height": 542
        },
        "id": "1tzRD3yQ1erV",
        "outputId": "ac53fc78-6c4b-4b79-af1c-4a7d6740d65d"
      },
      "outputs": [],
      "source": [
        "#Plota os dados de radiacao solar\n",
        "figSolar = px.line(dataWeather, x = dataWeather['Timestamp'], y = dataWeather['Radiacao'].rolling(5).mean(), title='Radiacao Solar')\n",
        "figSolar.update_layout(xaxis_title='Data', yaxis_title='Radiacao (W/m²)')\n",
        "figSolar.update_layout(\n",
        "    xaxis=dict(\n",
        "        rangeselector=dict(\n",
        "            \n",
        "            buttons=list([\n",
        "                dict(count=1,\n",
        "                        label=\"1m\",\n",
        "                        step=\"month\",\n",
        "                        stepmode=\"backward\"),\n",
        "                dict(count=6,\n",
        "                        label=\"6m\",\n",
        "                        step=\"month\",\n",
        "                        stepmode=\"backward\"),\n",
        "                dict(count=1,\n",
        "                        label=\"1y\",\n",
        "                        step=\"year\",\n",
        "                        stepmode=\"backward\"),\n",
        "                dict(step=\"all\")\n",
        "            ])\n",
        "        ),\n",
        "        rangeslider=dict(\n",
        "            visible=True\n",
        "        ),\n",
        "        type=\"date\"\n",
        "    )\n",
        ")"
      ]
    },
    {
      "cell_type": "code",
      "execution_count": null,
      "metadata": {
        "colab": {
          "background_save": true,
          "base_uri": "https://localhost:8080/",
          "height": 542
        },
        "id": "yaeMsAhJ1erW",
        "outputId": "f2c542fb-7a1d-413e-a791-b47323d369f1"
      },
      "outputs": [],
      "source": [
        "#Plota os dados de temperatura\n",
        "figTemp = px.line(dataWeather, x = dataWeather['Timestamp'], y = dataWeather['Temperatura'], title='Temperatura')\n",
        "figTemp.update_layout(xaxis_title='Data', yaxis_title='Temperatura (°C)')\n",
        "figTemp.update_layout(\n",
        "    xaxis=dict(\n",
        "        rangeselector=dict(\n",
        "            \n",
        "            buttons=list([\n",
        "                dict(count=1,\n",
        "                        label=\"1m\",\n",
        "                        step=\"month\",\n",
        "                        stepmode=\"backward\"),\n",
        "                dict(count=6,\n",
        "                        label=\"6m\",\n",
        "                        step=\"month\",\n",
        "                        stepmode=\"backward\"),\n",
        "                dict(count=1,\n",
        "                        label=\"1y\",\n",
        "                        step=\"year\",\n",
        "                        stepmode=\"backward\"),\n",
        "                dict(step=\"all\")\n",
        "            ])\n",
        "        ),\n",
        "        rangeslider=dict(\n",
        "            visible=True\n",
        "        ),\n",
        "        type=\"date\"\n",
        "    )\n",
        ")"
      ]
    },
    {
      "cell_type": "code",
      "execution_count": null,
      "metadata": {
        "colab": {
          "background_save": true,
          "base_uri": "https://localhost:8080/",
          "height": 542
        },
        "id": "op05d_eJ1erW",
        "outputId": "7eb02fd7-c5f4-47d7-e13e-3c57bf6af123"
      },
      "outputs": [],
      "source": [
        "#Plota os dados de umidade\n",
        "figUmidade = px.line(dataWeather, x = dataWeather['Timestamp'], y = dataWeather['Umidade'], title='Umidade' )\n",
        "figUmidade.update_layout(xaxis_title='Data', yaxis_title='Umidade (%)')\n",
        "figUmidade.update_layout(\n",
        "    xaxis=dict(\n",
        "        rangeselector=dict(\n",
        "            \n",
        "            buttons=list([\n",
        "                dict(count=1,\n",
        "                        label=\"1m\",\n",
        "                        step=\"month\",\n",
        "                        stepmode=\"backward\"),\n",
        "                dict(count=6,\n",
        "                        label=\"6m\",\n",
        "                        step=\"month\",\n",
        "                        stepmode=\"backward\"),\n",
        "                dict(count=1,\n",
        "                        label=\"1y\",\n",
        "                        step=\"year\",\n",
        "                        stepmode=\"backward\"),\n",
        "                dict(step=\"all\")\n",
        "            ])\n",
        "        ),\n",
        "        rangeslider=dict(\n",
        "            visible=True\n",
        "        ),\n",
        "        type=\"date\"\n",
        "    )\n",
        ")"
      ]
    },
    {
      "cell_type": "code",
      "execution_count": null,
      "metadata": {
        "colab": {
          "background_save": true,
          "base_uri": "https://localhost:8080/",
          "height": 542
        },
        "id": "iOHajLQu1erX",
        "outputId": "f24acc06-06d8-48fd-8ecf-07bb024e6592"
      },
      "outputs": [],
      "source": [
        "#Verificando se tem correlacao entre o clima e o consumo de energia\n",
        "figCorrTemp = px.scatter(dataWeather, x='Temperatura', y='Consumo', title='Existe correlacao? (Consumo x Temperatura)', trendline=\"ols\")\n",
        "figCorrTemp.update_layout(xaxis_title='Temperatura (°C)', yaxis_title='Consumo (MWh)')"
      ]
    },
    {
      "cell_type": "code",
      "execution_count": null,
      "metadata": {
        "colab": {
          "background_save": true,
          "base_uri": "https://localhost:8080/"
        },
        "id": "TinpqaX-1erX",
        "outputId": "6b81b326-410d-45a3-e491-ead2691e762e"
      },
      "outputs": [],
      "source": [
        "dataWeather['Consumo'].corr(dataWeather['Temperatura'])"
      ]
    },
    {
      "cell_type": "code",
      "execution_count": null,
      "metadata": {
        "colab": {
          "background_save": true,
          "base_uri": "https://localhost:8080/",
          "height": 542
        },
        "id": "jgXH629d1erX",
        "outputId": "1fc627d2-e02a-45dd-f758-cd9233511c6a"
      },
      "outputs": [],
      "source": [
        "figCorrRad = px.scatter(dataWeather, x='Radiacao', y='Consumo', title='Existe correlacao? (Consumo x Radiacao)', trendline=\"ols\")\n",
        "figCorrRad.update_layout(xaxis_title='Radiacao (W/m²)', yaxis_title='Consumo (MWh)')"
      ]
    },
    {
      "cell_type": "code",
      "execution_count": null,
      "metadata": {
        "colab": {
          "background_save": true,
          "base_uri": "https://localhost:8080/"
        },
        "id": "6izx2y511erX",
        "outputId": "a7d33150-9c10-43d2-d34d-5889ebec1009"
      },
      "outputs": [],
      "source": [
        "dataWeather['Consumo'].corr(dataWeather['Radiacao'])"
      ]
    },
    {
      "cell_type": "code",
      "execution_count": null,
      "metadata": {
        "colab": {
          "background_save": true,
          "base_uri": "https://localhost:8080/",
          "height": 542
        },
        "id": "zeqx5kDa1erX",
        "outputId": "de0ee0e2-9b15-4a09-c06d-8d2e2f2d298a"
      },
      "outputs": [],
      "source": [
        "figCorrRadTemp = px.scatter(dataWeather, x='Radiacao', y='Temperatura', title='Existe correlacao? (Temperatura x Radiacao)', trendline=\"ols\")\n",
        "figCorrRadTemp.update_layout(xaxis_title='Radiacao (W/m²)', yaxis_title='Temperatura (°C)')"
      ]
    },
    {
      "cell_type": "code",
      "execution_count": null,
      "metadata": {
        "colab": {
          "background_save": true,
          "base_uri": "https://localhost:8080/"
        },
        "id": "bw7PLtDM1erY",
        "outputId": "18577d94-f69c-49c5-e885-93dd053959de"
      },
      "outputs": [],
      "source": [
        "dataWeather['Temperatura'].corr(dataWeather['Radiacao'])"
      ]
    },
    {
      "cell_type": "code",
      "execution_count": null,
      "metadata": {
        "colab": {
          "background_save": true,
          "base_uri": "https://localhost:8080/",
          "height": 542
        },
        "id": "Z4m-z-Y61erY",
        "outputId": "ad1ce1d3-be1e-4f5a-f20b-68274f99d922"
      },
      "outputs": [],
      "source": [
        "figCorrUmid = px.scatter(dataWeather, x='Umidade', y='Consumo', title='Existe correlacao? (Consumo x Umidade)', trendline=\"ols\")\n",
        "figCorrUmid.update_layout(xaxis_title='Umidade (%)', yaxis_title='Consumo (MWh)')"
      ]
    },
    {
      "cell_type": "code",
      "execution_count": null,
      "metadata": {
        "colab": {
          "background_save": true,
          "base_uri": "https://localhost:8080/"
        },
        "id": "hSY0Bxu51erY",
        "outputId": "315f50a1-de8e-442a-d897-6dd907fe891b"
      },
      "outputs": [],
      "source": [
        "dataWeather['Consumo'].corr(dataWeather['Umidade'])"
      ]
    },
    {
      "cell_type": "code",
      "execution_count": null,
      "metadata": {
        "colab": {
          "background_save": true
        },
        "id": "1C5_XLU31erY"
      },
      "outputs": [],
      "source": [
        "#Adiciona se o dia é feriado ou não\n",
        "dataWeather['Feriado'] = dataWeather['Timestamp'].dt.date.astype('datetime64').isin(holidays.Brazil(years=[2018,2019,2020]).keys())"
      ]
    },
    {
      "cell_type": "code",
      "execution_count": null,
      "metadata": {
        "colab": {
          "background_save": true
        },
        "id": "HPN3N7S91erY"
      },
      "outputs": [],
      "source": [
        "#dataWeather.to_csv('dadosComClima.csv', sep=',', index=False)"
      ]
    },
    {
      "cell_type": "markdown",
      "metadata": {
        "id": "cvvAL7Fp1erY"
      },
      "source": [
        "Parte de IA"
      ]
    },
    {
      "cell_type": "code",
      "execution_count": null,
      "metadata": {
        "colab": {
          "background_save": true
        },
        "id": "AOcW8kx11era"
      },
      "outputs": [],
      "source": [
        "#TODO: Dar uma olhada entre consumoData e dataWeather, ver se tem diferencas"
      ]
    },
    {
      "cell_type": "code",
      "execution_count": null,
      "metadata": {
        "colab": {
          "background_save": true
        },
        "id": "ncGTiL9C1era"
      },
      "outputs": [],
      "source": [
        "# Usa 90% dos dados para treino e 10% para teste\n",
        "train_size = int(len(dataWeather) * 0.9)\n",
        "test_size = len(dataWeather) - train_size\n",
        "train, test = dataWeather[0:train_size], dataWeather[train_size:len(dataWeather)]"
      ]
    },
    {
      "cell_type": "code",
      "execution_count": null,
      "metadata": {
        "colab": {
          "background_save": true,
          "base_uri": "https://localhost:8080/",
          "height": 424
        },
        "id": "MgQAKQkH1era",
        "outputId": "a26cea40-a7b7-4ffd-8286-ba1d24f0298a"
      },
      "outputs": [],
      "source": [
        "test"
      ]
    },
    {
      "cell_type": "code",
      "execution_count": null,
      "metadata": {
        "colab": {
          "background_save": true,
          "base_uri": "https://localhost:8080/"
        },
        "id": "BXF-1go11erb",
        "outputId": "f74eafc9-c182-432b-8714-0d8cc672f2bb"
      },
      "outputs": [],
      "source": [
        "#Cria um dataset de treino contendo dia da semana, mes, ano e dia do ano a partir da coluna Timestamp\n",
        "train['dayofweek'] = train['Timestamp'].dt.dayofweek\n",
        "train['quarter'] = train['Timestamp'].dt.quarter\n",
        "train['month'] = train['Timestamp'].dt.month\n",
        "train['year'] = train['Timestamp'].dt.year\n",
        "train['dayofyear'] = train['Timestamp'].dt.dayofyear\n",
        "train['dayofmonth'] = train['Timestamp'].dt.day\n",
        "train['weekofyear'] = train['Timestamp'].dt.weekofyear\n"
      ]
    },
    {
      "cell_type": "code",
      "execution_count": null,
      "metadata": {
        "colab": {
          "background_save": true,
          "base_uri": "https://localhost:8080/"
        },
        "id": "k2B0t_B71erb",
        "outputId": "1b536e07-e19c-45dd-8bdb-53f553b28365"
      },
      "outputs": [],
      "source": [
        "#Add estações do ano\n",
        "train['Estacao'] = train['Timestamp'].dt.month%12 // 3 + 1"
      ]
    },
    {
      "cell_type": "code",
      "execution_count": null,
      "metadata": {
        "colab": {
          "background_save": true,
          "base_uri": "https://localhost:8080/"
        },
        "id": "Zpj3ARxu1erc",
        "outputId": "cfac5419-3d60-4216-8449-fd8b1c467243"
      },
      "outputs": [],
      "source": [
        "#Cria um dataset de teste contendo dia da semana, mes, ano e dia do ano a partir da coluna Timestamp\n",
        "test['dayofweek'] = test['Timestamp'].dt.dayofweek\n",
        "test['quarter'] = test['Timestamp'].dt.quarter\n",
        "test['month'] = test['Timestamp'].dt.month\n",
        "test['year'] = test['Timestamp'].dt.year\n",
        "test['dayofyear'] = test['Timestamp'].dt.dayofyear\n",
        "test['dayofmonth'] = test['Timestamp'].dt.day\n",
        "test['weekofyear'] = test['Timestamp'].dt.weekofyear"
      ]
    },
    {
      "cell_type": "code",
      "execution_count": null,
      "metadata": {
        "colab": {
          "background_save": true,
          "base_uri": "https://localhost:8080/"
        },
        "id": "GAiSAptH1erc",
        "outputId": "dda4f3d6-5360-4db8-8698-155acb682937"
      },
      "outputs": [],
      "source": [
        "#Add estações do ano\n",
        "test['Estacao'] = test['Timestamp'].dt.month%12 // 3 + 1"
      ]
    },
    {
      "cell_type": "code",
      "execution_count": null,
      "metadata": {
        "colab": {
          "background_save": true
        },
        "id": "tlShIDT41erc"
      },
      "outputs": [],
      "source": [
        "XTrain = train.drop(['Timestamp', 'Consumo', 'Umidade','Radiacao'], axis = 1)"
      ]
    },
    {
      "cell_type": "code",
      "execution_count": null,
      "metadata": {
        "colab": {
          "background_save": true,
          "base_uri": "https://localhost:8080/",
          "height": 424
        },
        "id": "A72Wpm2i1erc",
        "outputId": "b7c6c771-e3f1-42c8-8ed8-15abcb59308c"
      },
      "outputs": [],
      "source": [
        "XTrain"
      ]
    },
    {
      "cell_type": "code",
      "execution_count": null,
      "metadata": {
        "colab": {
          "background_save": true,
          "base_uri": "https://localhost:8080/"
        },
        "id": "IFWV3dEe1erd",
        "outputId": "4a24e564-74c2-4218-c989-adc3b534c1c1"
      },
      "outputs": [],
      "source": [
        "consumoData[\"Consumo\"][0:train_size]"
      ]
    },
    {
      "cell_type": "code",
      "execution_count": null,
      "metadata": {
        "colab": {
          "background_save": true
        },
        "id": "mwGZJMup1erd"
      },
      "outputs": [],
      "source": [
        "YTrain = train['Consumo']"
      ]
    },
    {
      "cell_type": "code",
      "execution_count": null,
      "metadata": {
        "colab": {
          "background_save": true
        },
        "id": "AoTxVJ071erd"
      },
      "outputs": [],
      "source": [
        "XTest = test.drop(['Timestamp', 'Consumo', 'Umidade','Radiacao'], axis = 1)"
      ]
    },
    {
      "cell_type": "code",
      "execution_count": null,
      "metadata": {
        "colab": {
          "background_save": true
        },
        "id": "OKMmmeUx1ere"
      },
      "outputs": [],
      "source": [
        "YTest = test['Consumo']"
      ]
    },
    {
      "cell_type": "code",
      "execution_count": null,
      "metadata": {
        "colab": {
          "background_save": true
        },
        "id": "Tcbl916x1ere"
      },
      "outputs": [],
      "source": [
        "import xgboost as xgb\n",
        "from xgboost import plot_importance, plot_tree\n",
        "from sklearn.metrics import mean_squared_error, mean_absolute_error"
      ]
    },
    {
      "cell_type": "code",
      "execution_count": null,
      "metadata": {
        "colab": {
          "background_save": true,
          "base_uri": "https://localhost:8080/"
        },
        "id": "AUVrF8yQ1ere",
        "outputId": "b100fbcf-f27d-4932-a461-347d213a9c21"
      },
      "outputs": [],
      "source": [
        "reg = xgb.XGBRegressor(n_estimators=1000)\n",
        "reg.fit(XTrain, YTrain,\n",
        "        eval_set=[(XTrain, YTrain), (XTest, YTest)],\n",
        "        early_stopping_rounds=50,\n",
        "       verbose=False) # Change verbose to True if you want to see it train"
      ]
    },
    {
      "cell_type": "code",
      "execution_count": null,
      "metadata": {
        "colab": {
          "background_save": true
        },
        "id": "O8UNXCsT1erf"
      },
      "outputs": [],
      "source": [
        "sorted_idx = reg.feature_importances_.argsort()"
      ]
    },
    {
      "cell_type": "code",
      "execution_count": null,
      "metadata": {
        "colab": {
          "background_save": true
        },
        "id": "U8jBQqtX2-vW"
      },
      "outputs": [],
      "source": [
        "feature_important = reg.get_booster().get_score(importance_type='weight')"
      ]
    },
    {
      "cell_type": "code",
      "execution_count": null,
      "metadata": {
        "colab": {
          "background_save": true
        },
        "id": "yMj_VD6b20fq"
      },
      "outputs": [],
      "source": [
        "keys = list(feature_important.keys())\n",
        "values = list(feature_important.values())"
      ]
    },
    {
      "cell_type": "code",
      "execution_count": null,
      "metadata": {
        "colab": {
          "background_save": true
        },
        "id": "7dFTnxxA3UHb"
      },
      "outputs": [],
      "source": [
        "modelData = pd.DataFrame(data=values, index=keys, columns=[\"score\"]).sort_values(by = \"score\", ascending=True)"
      ]
    },
    {
      "cell_type": "code",
      "execution_count": null,
      "metadata": {
        "colab": {
          "background_save": true
        },
        "id": "CnZ_mtd_3lxT"
      },
      "outputs": [],
      "source": [
        "modelData = modelData.reset_index()\n",
        "modelData.columns = ['Feature', 'Importance']"
      ]
    },
    {
      "cell_type": "code",
      "execution_count": null,
      "metadata": {
        "colab": {
          "background_save": true,
          "base_uri": "https://localhost:8080/",
          "height": 542
        },
        "id": "PnxDQOfJ3i8S",
        "outputId": "c58a4ac3-cf61-4a19-8479-295ff537ab90"
      },
      "outputs": [],
      "source": [
        "figImp = px.bar(y=modelData['Feature'], x=modelData['Importance'], title='Feature Importance', orientation='h')\n",
        "figImp.update_layout(xaxis_title='Importancia', yaxis_title='Feature')\n",
        "figImp"
      ]
    },
    {
      "cell_type": "code",
      "execution_count": null,
      "metadata": {
        "colab": {
          "background_save": true
        },
        "id": "m4-YaH_V1erf"
      },
      "outputs": [],
      "source": [
        "#Create a bar plot using px with the feature importance of the model <- NAO FUNCIONOU BEM NO COLAB\n",
        "#figImp = px.bar(y=reg.feature_names_in_[sorted_idx], x=reg.feature_importances_[sorted_idx], title='Feature Importance', orientation='h')\n",
        "#figImp.update_layout(xaxis_title='Feature', yaxis_title='Importance')\n",
        "#figImp"
      ]
    },
    {
      "cell_type": "code",
      "execution_count": null,
      "metadata": {
        "colab": {
          "base_uri": "https://localhost:8080/",
          "height": 424
        },
        "id": "0c1HCmnbvW4F",
        "outputId": "5b235a7f-f700-4686-cb57-9cb1df5c0e8e"
      },
      "outputs": [],
      "source": [
        "XTest"
      ]
    },
    {
      "cell_type": "code",
      "execution_count": null,
      "metadata": {
        "colab": {
          "background_save": true
        },
        "id": "w4seiI_n1erf"
      },
      "outputs": [],
      "source": [
        "resTest = reg.predict(XTest)"
      ]
    },
    {
      "cell_type": "code",
      "execution_count": null,
      "metadata": {
        "colab": {
          "background_save": true,
          "base_uri": "https://localhost:8080/",
          "height": 542
        },
        "id": "LjDj7QUG1erf",
        "outputId": "d75a43fa-a5c0-4868-c3ee-2a52db99928e"
      },
      "outputs": [],
      "source": [
        "#Create a line plot using px line with the train data, test data and the prediction\n",
        "forecast = px.line(train, x = 'Timestamp', y = 'Consumo', title = 'Consumo de Energia')\n",
        "forecast.add_scatter(x = test['Timestamp'], y = test['Consumo'], mode = 'lines', name = 'Test')\n",
        "forecast.add_scatter(x = test['Timestamp'], y = resTest, mode = 'lines', name = 'Prediction')\n",
        "forecast.update_layout(\n",
        "    xaxis=dict(\n",
        "        rangeselector=dict(\n",
        "            \n",
        "            buttons=list([\n",
        "                dict(count=1,\n",
        "                        label=\"1m\",\n",
        "                        step=\"month\",\n",
        "                        stepmode=\"backward\"),\n",
        "                dict(count=6,\n",
        "                        label=\"6m\",\n",
        "                        step=\"month\",\n",
        "                        stepmode=\"backward\"),\n",
        "                dict(count=1,\n",
        "                        label=\"1y\",\n",
        "                        step=\"year\",\n",
        "                        stepmode=\"backward\"),\n",
        "                dict(step=\"all\")\n",
        "            ])\n",
        "        ),\n",
        "        rangeslider=dict(\n",
        "            visible=True\n",
        "        ),\n",
        "        type=\"date\"\n",
        "    )\n",
        ")\n",
        "\n",
        "forecast.show() "
      ]
    },
    {
      "cell_type": "code",
      "execution_count": null,
      "metadata": {
        "colab": {
          "background_save": true,
          "base_uri": "https://localhost:8080/"
        },
        "id": "-t1AV6Di1erg",
        "outputId": "09188094-1018-4838-bd82-aabca7e447ac"
      },
      "outputs": [],
      "source": [
        "#Calcula o erro absoluto medio\n",
        "mae = mean_absolute_error(YTest, resTest)\n",
        "print('MAE: %.3f' % mae)"
      ]
    },
    {
      "cell_type": "code",
      "execution_count": null,
      "metadata": {
        "colab": {
          "background_save": true
        },
        "id": "MtuHJbao1erg"
      },
      "outputs": [],
      "source": [
        "app = jupyter_dash.JupyterDash(__name__)"
      ]
    },
    {
      "cell_type": "code",
      "execution_count": null,
      "metadata": {
        "colab": {
          "background_save": true,
          "base_uri": "https://localhost:8080/",
          "height": 424
        },
        "id": "3Kpa8CF11erg",
        "outputId": "bf6e2060-f488-415b-cef5-a58145faa0df"
      },
      "outputs": [],
      "source": [
        "consumoEstado"
      ]
    },
    {
      "cell_type": "code",
      "execution_count": null,
      "metadata": {
        "colab": {
          "background_save": true
        },
        "id": "ch9jewIY1erg"
      },
      "outputs": [],
      "source": [
        "#Create a dict for the dropdown with the states\n",
        "optionsUF = [{'label': i, 'value': i} for i in ACL_df['UF'].unique()]\n",
        "for i in optionsUF:\n",
        "    i['label'] = i['label'].replace(\"\\xa0\", \"\")\n",
        "    i['value'] = i['value'].replace(\"\\xa0\", \"\")"
      ]
    },
    {
      "cell_type": "code",
      "execution_count": null,
      "metadata": {
        "colab": {
          "background_save": true,
          "base_uri": "https://localhost:8080/"
        },
        "id": "9WvgzF431erg",
        "outputId": "b421481d-46b3-46b9-e7e5-8382b95fd29c"
      },
      "outputs": [],
      "source": [
        "ACL_df[\"UF\"] = ACL_df[\"UF\"].str.replace(\"\\xa0\", \"\")"
      ]
    },
    {
      "cell_type": "code",
      "execution_count": null,
      "metadata": {
        "colab": {
          "background_save": true,
          "base_uri": "https://localhost:8080/"
        },
        "id": "ykz-VYWC1erg",
        "outputId": "238f6a2a-2f7f-4911-a69c-a3c345bc6c62"
      },
      "outputs": [],
      "source": [
        "#Calcula a media de consumo quando e feriado ou nao\n",
        "consumoFeriado = dataWeather.groupby(['Feriado'])['Consumo'].mean().reset_index()\n",
        "\n",
        "print(consumoFeriado)"
      ]
    },
    {
      "cell_type": "code",
      "execution_count": null,
      "metadata": {
        "colab": {
          "background_save": true,
          "base_uri": "https://localhost:8080/",
          "height": 542
        },
        "id": "xiLJbEmI1erh",
        "outputId": "64c4160f-a874-4ed4-ff7a-1f116915c549"
      },
      "outputs": [],
      "source": [
        "#Plota o consumo de um grafico de linha e indica se o dia é feriado ou nao\n",
        "figConsumoFeriado = px.line(dataWeather, x = 'Timestamp', y = 'Consumo', title = 'Consumo de Energia')\n",
        "figConsumoFeriado.add_scatter(x = dataWeather[dataWeather['Feriado']]['Timestamp'], y = dataWeather[dataWeather['Feriado']]['Consumo'],mode = 'markers', name = 'Feriado')\n",
        "figConsumoFeriado.update_layout(xaxis_title='Feriado', yaxis_title='Consumo (MWh)')\n",
        "figConsumoFeriado.update_layout(\n",
        "    xaxis=dict(\n",
        "        rangeselector=dict(\n",
        "            \n",
        "            buttons=list([\n",
        "                dict(count=1,\n",
        "                        label=\"1m\",\n",
        "                        step=\"month\",\n",
        "                        stepmode=\"backward\"),\n",
        "                dict(count=6,\n",
        "                        label=\"6m\",\n",
        "                        step=\"month\",\n",
        "                        stepmode=\"backward\"),\n",
        "                dict(count=1,\n",
        "                        label=\"1y\",\n",
        "                        step=\"year\",\n",
        "                        stepmode=\"backward\"),\n",
        "                dict(step=\"all\")\n",
        "            ])\n",
        "        ),\n",
        "        rangeslider=dict(\n",
        "            visible=True\n",
        "        ),\n",
        "        type=\"date\"\n",
        "    )\n",
        ")"
      ]
    },
    {
      "cell_type": "code",
      "execution_count": null,
      "metadata": {
        "colab": {
          "background_save": true,
          "base_uri": "https://localhost:8080/",
          "height": 206
        },
        "id": "JfC7kZtw1erh",
        "outputId": "6c651faa-06e1-4fcc-b3bd-487ae66dac9c"
      },
      "outputs": [],
      "source": [
        "#Calcula a correlacao entre as variaveis\n",
        "correlacao = dataWeather.corr()\n",
        "correlacao"
      ]
    },
    {
      "cell_type": "code",
      "execution_count": null,
      "metadata": {
        "colab": {
          "background_save": true
        },
        "id": "biQ9YPp_1erh"
      },
      "outputs": [],
      "source": [
        "app.layout = html.Div([\n",
        "    html.H1(\"Visão Geral do Consumo de Energia no Brasil\", style={'text-align': 'center'}),\n",
        "    \n",
        "    html.H2(\"Como é o consumo de energia no Brasil?\", style={'text-align': 'center'}),\n",
        "    dcc.Graph(figure=figMap),\n",
        "    html.H2(\"Como está composto o consumo de energia em cada estado?\", style={'text-align': 'center'}),\n",
        "    #Add fig5\n",
        "    dcc.Graph(figure=treeMap),\n",
        "    dbc.Row(\n",
        "        [\n",
        "            dbc.Col([\n",
        "                html.H3(\"Selecione os estados que deseja visualizar de forma mais detalhada:\", style={'text-align': 'center'}),\n",
        "                dcc.Dropdown(id='dropEstado',options=optionsUF, value= ['SP'], multi=True),\n",
        "            ]),\n",
        "        ]\n",
        "    ),\n",
        "    dcc.Graph(id = 'rankInd',figure=rankInd),\n",
        "    html.H1(\"Consumo de Energia ao longo do tempo\", style={'text-align': 'center'}),\n",
        "    html.H2(\"Como o consumo varia por UF? (Selecione os estados no lado direito)\", style={'text-align': 'center'}),\n",
        "    dcc.Graph(figure=lineUf),\n",
        "    html.H2(\"Como o consumo varia por Ramo? (Selecione os ramos no lado direito)\", style={'text-align': 'center'}),\n",
        "    dcc.Graph(figure = figRamo),\n",
        "    html.H2(\"Como o consumo varia de acordo com a estação do ano? (Selecione a estação no lado direito)\", style={'text-align': 'center'}),\n",
        "    dcc.Graph(figure=figEstacao),\n",
        "    html.H2(\"Como o consumo varia com o dia da semana?\", style={'text-align': 'center'}),\n",
        "    dcc.Graph(figure=figScatter),\n",
        "    html.H2(\"Qual a tendencia de queda e aumento do consumo?\", style={'text-align': 'center'}),\n",
        "    dcc.Graph(figure=fig7),\n",
        "    html.H2(\"Feriados afetam o consumo?\", style={'text-align': 'center'}),\n",
        "    dcc.Graph(figure=figConsumoFeriado),\n",
        "    html.H1(\"Fatores climaticos influenciam no consumo?\", style={'text-align': 'center'}),\n",
        "    html.H2(\"Como os fatores climaticos variam com o ano?\", style={'text-align': 'center'}),\n",
        "    dcc.Graph(figure=figTemp),\n",
        "    dcc.Graph(figure=figSolar),\n",
        "    dcc.Graph(figure=figUmidade),\n",
        "    html.H2(\"Qual a correlação entre o consumo e a temperatura?\", style={'text-align': 'center'}),\n",
        "    dcc.Graph(figure=figCorrTemp),\n",
        "    html.H2(\"Qual a correlação entre o consumo e a umidade?\", style={'text-align': 'center'}),\n",
        "    dcc.Graph(figure=figCorrUmid),\n",
        "    html.H2(\"Qual a correlação entre o consumo e a radiação solar?\", style={'text-align': 'center'}),\n",
        "    dcc.Graph(figure=figCorrRad),\n",
        "    html.H2(\"Qual a correlação entre a temperatura e a radiação solar?\", style={'text-align': 'center'}),\n",
        "    dcc.Graph(figure=figCorrRadTemp),\n",
        "    html.P(\"Percebemos que a umidade não tem uma correlação muito forte com o consumo, mas a temperatura e a radiação solar tem uma correlação forte com o consumo, além disso, a temperatura e a radiação solar tem uma correlação forte entre si.\"),\n",
        "    html.P(\"A correlação entre a temperatura e a consumo é de: \" + str(correlacao['Consumo']['Temperatura'])),\n",
        "    html.P(\"A correlação entre a umidade e a consumo é de: \" + str(correlacao['Consumo']['Umidade'])),\n",
        "    html.P(\"A correlação entre a radiação solar e a consumo é de: \" + str(correlacao['Consumo']['Radiacao'])),\n",
        "    html.P(\"A correlação entre a temperatura e a radiação solar é de: \" + str(correlacao['Temperatura']['Radiacao'])),\n",
        "\n",
        "    html.H1(\"Forecasting do consumo\", style={'text-align': 'center'}),\n",
        "    html.H3(\"Com base nas perguntas anteriores foi feito um modelo usando XGBoost\"),\n",
        "    html.H3(\"Os dados de treinamento foram: Temperatura, Feriados, Estação do ano e Dados provenientes da data\"),\n",
        "    html.H3(\"Foi feito forecasting do dia 09/04/2020 a 19/06/2020\"),\n",
        "    html.H3(\"As features mais importantes de acordo com o modelo foram: \"),\n",
        "    dcc.Graph(figure= figImp),\n",
        "    html.H2(\"Temos a seguinte serie com a predição: \"),\n",
        "    dcc.Graph(figure= forecast),\n",
        "    html.H3(\"O erro absoluto medio do modelo foi de: \"),\n",
        "    html.P(str(mae) + \" MWh\")\n",
        "])"
      ]
    },
    {
      "cell_type": "code",
      "execution_count": null,
      "metadata": {
        "colab": {
          "background_save": true
        },
        "id": "5bHIFHcs1erh"
      },
      "outputs": [],
      "source": [
        "#Callback for the dropdown\n",
        "@app.callback(\n",
        "    Output('rankInd', 'figure'),\n",
        "    Input('dropEstado', 'value')\n",
        ")\n",
        "def update_graph(dropEstado):\n",
        "    dataFilt = ACL_df[ACL_df['UF'].isin(dropEstado)]\n",
        "    b = dataFilt.groupby(['Ramo','UF'])['Consumo'].sum()\n",
        "    b=b.reset_index().sort_values(['Consumo'],ascending=False)\n",
        "    rankInd = px.bar(b.groupby(['Ramo'])['Consumo'].mean().reset_index().sort_values(['Consumo'],ascending=True),\n",
        "                y='Ramo', x='Consumo', orientation='h') #color='Ramo',\n",
        "    rankInd.update_layout(xaxis_title='Consumo (MWh)', yaxis_title='Ramo')\n",
        "    return rankInd"
      ]
    },
    {
      "cell_type": "code",
      "execution_count": null,
      "metadata": {
        "colab": {
          "background_save": true,
          "base_uri": "https://localhost:8080/",
          "height": 52
        },
        "id": "DcBepzY41eri",
        "outputId": "72e43549-eddf-4614-9bac-47a19cbe80ca"
      },
      "outputs": [],
      "source": [
        "app.run_server() #<- roda no navegador\n",
        "#app.run_server(mode='inline',host=\"0.0.0.0\",port=1005) # <- roda direto no colab"
      ]
    }
  ],
  "metadata": {
    "colab": {
      "provenance": []
    },
    "kernelspec": {
      "display_name": "Python 3",
      "language": "python",
      "name": "python3"
    },
    "language_info": {
      "codemirror_mode": {
        "name": "ipython",
        "version": 3
      },
      "file_extension": ".py",
      "mimetype": "text/x-python",
      "name": "python",
      "nbconvert_exporter": "python",
      "pygments_lexer": "ipython3",
      "version": "3.10.4"
    },
    "vscode": {
      "interpreter": {
        "hash": "f422de39ad8f94a2b1af68056cae06c46fbf51cf3a4f51c27b75f93c1047fc34"
      }
    }
  },
  "nbformat": 4,
  "nbformat_minor": 0
}
